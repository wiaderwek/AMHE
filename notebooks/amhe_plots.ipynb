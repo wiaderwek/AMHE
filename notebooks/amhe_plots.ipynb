{
  "nbformat": 4,
  "nbformat_minor": 0,
  "metadata": {
    "colab": {
      "name": "amhe_plots.ipynb",
      "provenance": [],
      "authorship_tag": "ABX9TyPCoO7dazxTIP/4lm+EZSpJ",
      "include_colab_link": true
    },
    "kernelspec": {
      "name": "python3",
      "display_name": "Python 3"
    },
    "language_info": {
      "name": "python"
    }
  },
  "cells": [
    {
      "cell_type": "markdown",
      "metadata": {
        "id": "view-in-github",
        "colab_type": "text"
      },
      "source": [
        "<a href=\"https://colab.research.google.com/github/wiaderwek/AMHE/blob/master/notebooks/amhe_plots.ipynb\" target=\"_parent\"><img src=\"https://colab.research.google.com/assets/colab-badge.svg\" alt=\"Open In Colab\"/></a>"
      ]
    },
    {
      "cell_type": "markdown",
      "metadata": {
        "id": "PBy4XcyVRgzC"
      },
      "source": [
        "# AMHE - wykresy\n"
      ]
    },
    {
      "cell_type": "code",
      "metadata": {
        "colab": {
          "base_uri": "https://localhost:8080/"
        },
        "id": "covaSxeQRe8W",
        "outputId": "cb952973-21c9-495e-cf44-82976e78613c"
      },
      "source": [
        "! git clone https://github.com/wiaderwek/AMHE.git"
      ],
      "execution_count": 54,
      "outputs": [
        {
          "output_type": "stream",
          "text": [
            "fatal: destination path 'AMHE' already exists and is not an empty directory.\n"
          ],
          "name": "stdout"
        }
      ]
    },
    {
      "cell_type": "markdown",
      "metadata": {
        "id": "GbLOjesCUTX1"
      },
      "source": [
        "## Prepare data"
      ]
    },
    {
      "cell_type": "code",
      "metadata": {
        "id": "J1kZkgKaSGrz"
      },
      "source": [
        "import numpy as np\n",
        "import pandas as pd\n",
        "from datetime import datetime"
      ],
      "execution_count": 55,
      "outputs": []
    },
    {
      "cell_type": "code",
      "metadata": {
        "id": "lBDS_0DRSaRr"
      },
      "source": [
        "df_25 = pd.read_csv('/content/AMHE/results/get_25_d_2_results.csv', sep=',',header=None)\n",
        "df_50 = pd.read_csv('/content/AMHE/results/gen_50_d_2_result.csv', sep=',',header=None)\n",
        "df_75 = pd.read_csv('/content/AMHE/results/gen_75_d_2_result.csv', sep=',',header=None)\n",
        "df_100 = pd.read_csv('/content/AMHE/results/gen_100_d_2_result.csv', sep=',',header=None)\n",
        "df_125 = pd.read_csv('/content/AMHE/results/gen_125_d_2_result.csv', sep=',',header=None)\n",
        "df_150 = pd.read_csv('/content/AMHE/results/gen_150_d_2_result.csv', sep=',',header=None)"
      ],
      "execution_count": 56,
      "outputs": []
    },
    {
      "cell_type": "code",
      "metadata": {
        "id": "5eLoF6drbAA4"
      },
      "source": [
        "df_25[7] = df_25[7].str.strip()\n",
        "df_25[8] = df_25[8].str.strip()\n",
        "df_50[7] = df_50[7].str.strip()\n",
        "df_50[8] = df_50[8].str.strip()\n",
        "df_75[7] = df_75[7].str.strip()\n",
        "df_75[8] = df_75[8].str.strip()\n",
        "df_100[7] = df_100[7].str.strip()\n",
        "df_100[8] = df_100[8].str.strip()\n",
        "df_125[7] = df_125[7].str.strip()\n",
        "df_125[8] = df_125[8].str.strip()\n",
        "df_150[7] = df_150[7].str.strip()\n",
        "df_150[8] = df_150[8].str.strip()"
      ],
      "execution_count": 57,
      "outputs": []
    },
    {
      "cell_type": "code",
      "metadata": {
        "colab": {
          "base_uri": "https://localhost:8080/",
          "height": 417
        },
        "id": "Gxdw9-oPSyDM",
        "outputId": "26d2e674-da98-435b-c40a-b6d6acd380d0"
      },
      "source": [
        "df_25_true = df_25[(df_25[7] == 'True') & (df_25[8] == 'True')]\n",
        "df_50_true  = df_50[(df_25[7] == 'True') & (df_50[8] == 'True')]\n",
        "df_75_true  = df_75[(df_25[7] == 'True') & (df_75[8] == 'True')]\n",
        "df_100_true  = df_100[(df_25[7] == 'True') & (df_100[8] == 'True')]\n",
        "df_125_true  = df_125[(df_25[7] == 'True') & (df_125[8] == 'True')]\n",
        "df_150_true  = df_150[(df_25[7] == 'True') & (df_150[8] == 'True')]\n",
        "df_25_true "
      ],
      "execution_count": 58,
      "outputs": [
        {
          "output_type": "execute_result",
          "data": {
            "text/html": [
              "<div>\n",
              "<style scoped>\n",
              "    .dataframe tbody tr th:only-of-type {\n",
              "        vertical-align: middle;\n",
              "    }\n",
              "\n",
              "    .dataframe tbody tr th {\n",
              "        vertical-align: top;\n",
              "    }\n",
              "\n",
              "    .dataframe thead th {\n",
              "        text-align: right;\n",
              "    }\n",
              "</style>\n",
              "<table border=\"1\" class=\"dataframe\">\n",
              "  <thead>\n",
              "    <tr style=\"text-align: right;\">\n",
              "      <th></th>\n",
              "      <th>0</th>\n",
              "      <th>1</th>\n",
              "      <th>2</th>\n",
              "      <th>3</th>\n",
              "      <th>4</th>\n",
              "      <th>5</th>\n",
              "      <th>6</th>\n",
              "      <th>7</th>\n",
              "      <th>8</th>\n",
              "      <th>9</th>\n",
              "      <th>10</th>\n",
              "      <th>11</th>\n",
              "      <th>12</th>\n",
              "      <th>13</th>\n",
              "      <th>14</th>\n",
              "      <th>15</th>\n",
              "      <th>16</th>\n",
              "      <th>17</th>\n",
              "      <th>18</th>\n",
              "      <th>19</th>\n",
              "      <th>20</th>\n",
              "      <th>21</th>\n",
              "      <th>22</th>\n",
              "      <th>23</th>\n",
              "      <th>24</th>\n",
              "      <th>25</th>\n",
              "    </tr>\n",
              "  </thead>\n",
              "  <tbody>\n",
              "    <tr>\n",
              "      <th>0</th>\n",
              "      <td>2021-06-16 09:01:58.091556</td>\n",
              "      <td>N15</td>\n",
              "      <td>N7</td>\n",
              "      <td>83.512177</td>\n",
              "      <td>101</td>\n",
              "      <td>100</td>\n",
              "      <td>-3.359942</td>\n",
              "      <td>True</td>\n",
              "      <td>True</td>\n",
              "      <td>10000</td>\n",
              "      <td>100</td>\n",
              "      <td>10000</td>\n",
              "      <td>1000</td>\n",
              "      <td>95</td>\n",
              "      <td>10</td>\n",
              "      <td>30</td>\n",
              "      <td>50</td>\n",
              "      <td>50</td>\n",
              "      <td>0.4</td>\n",
              "      <td>3</td>\n",
              "      <td>100</td>\n",
              "      <td>10</td>\n",
              "      <td>500</td>\n",
              "      <td>1000</td>\n",
              "      <td>1000</td>\n",
              "      <td>25</td>\n",
              "    </tr>\n",
              "    <tr>\n",
              "      <th>1</th>\n",
              "      <td>2021-06-16 09:03:21.649611</td>\n",
              "      <td>N29</td>\n",
              "      <td>N7</td>\n",
              "      <td>88.150947</td>\n",
              "      <td>102</td>\n",
              "      <td>100</td>\n",
              "      <td>-1.215948</td>\n",
              "      <td>True</td>\n",
              "      <td>True</td>\n",
              "      <td>10000</td>\n",
              "      <td>100</td>\n",
              "      <td>10000</td>\n",
              "      <td>1000</td>\n",
              "      <td>95</td>\n",
              "      <td>10</td>\n",
              "      <td>30</td>\n",
              "      <td>50</td>\n",
              "      <td>50</td>\n",
              "      <td>0.4</td>\n",
              "      <td>3</td>\n",
              "      <td>100</td>\n",
              "      <td>10</td>\n",
              "      <td>500</td>\n",
              "      <td>1000</td>\n",
              "      <td>1000</td>\n",
              "      <td>25</td>\n",
              "    </tr>\n",
              "    <tr>\n",
              "      <th>2</th>\n",
              "      <td>2021-06-16 09:04:49.850397</td>\n",
              "      <td>N28</td>\n",
              "      <td>N8</td>\n",
              "      <td>89.968523</td>\n",
              "      <td>101</td>\n",
              "      <td>100</td>\n",
              "      <td>-1.124646</td>\n",
              "      <td>True</td>\n",
              "      <td>True</td>\n",
              "      <td>10000</td>\n",
              "      <td>100</td>\n",
              "      <td>10000</td>\n",
              "      <td>1000</td>\n",
              "      <td>95</td>\n",
              "      <td>10</td>\n",
              "      <td>30</td>\n",
              "      <td>50</td>\n",
              "      <td>50</td>\n",
              "      <td>0.4</td>\n",
              "      <td>3</td>\n",
              "      <td>100</td>\n",
              "      <td>10</td>\n",
              "      <td>500</td>\n",
              "      <td>1000</td>\n",
              "      <td>1000</td>\n",
              "      <td>25</td>\n",
              "    </tr>\n",
              "    <tr>\n",
              "      <th>3</th>\n",
              "      <td>2021-06-16 09:06:19.849865</td>\n",
              "      <td>N26</td>\n",
              "      <td>N18</td>\n",
              "      <td>82.011816</td>\n",
              "      <td>101</td>\n",
              "      <td>100</td>\n",
              "      <td>0.405817</td>\n",
              "      <td>True</td>\n",
              "      <td>True</td>\n",
              "      <td>10000</td>\n",
              "      <td>100</td>\n",
              "      <td>10000</td>\n",
              "      <td>1000</td>\n",
              "      <td>95</td>\n",
              "      <td>10</td>\n",
              "      <td>30</td>\n",
              "      <td>50</td>\n",
              "      <td>50</td>\n",
              "      <td>0.4</td>\n",
              "      <td>3</td>\n",
              "      <td>100</td>\n",
              "      <td>10</td>\n",
              "      <td>500</td>\n",
              "      <td>1000</td>\n",
              "      <td>1000</td>\n",
              "      <td>25</td>\n",
              "    </tr>\n",
              "    <tr>\n",
              "      <th>4</th>\n",
              "      <td>2021-06-16 09:07:41.916560</td>\n",
              "      <td>N21</td>\n",
              "      <td>N8</td>\n",
              "      <td>90.125133</td>\n",
              "      <td>103</td>\n",
              "      <td>100</td>\n",
              "      <td>2.790222</td>\n",
              "      <td>True</td>\n",
              "      <td>True</td>\n",
              "      <td>10000</td>\n",
              "      <td>100</td>\n",
              "      <td>10000</td>\n",
              "      <td>1000</td>\n",
              "      <td>95</td>\n",
              "      <td>10</td>\n",
              "      <td>30</td>\n",
              "      <td>50</td>\n",
              "      <td>50</td>\n",
              "      <td>0.4</td>\n",
              "      <td>3</td>\n",
              "      <td>100</td>\n",
              "      <td>10</td>\n",
              "      <td>500</td>\n",
              "      <td>1000</td>\n",
              "      <td>1000</td>\n",
              "      <td>25</td>\n",
              "    </tr>\n",
              "    <tr>\n",
              "      <th>...</th>\n",
              "      <td>...</td>\n",
              "      <td>...</td>\n",
              "      <td>...</td>\n",
              "      <td>...</td>\n",
              "      <td>...</td>\n",
              "      <td>...</td>\n",
              "      <td>...</td>\n",
              "      <td>...</td>\n",
              "      <td>...</td>\n",
              "      <td>...</td>\n",
              "      <td>...</td>\n",
              "      <td>...</td>\n",
              "      <td>...</td>\n",
              "      <td>...</td>\n",
              "      <td>...</td>\n",
              "      <td>...</td>\n",
              "      <td>...</td>\n",
              "      <td>...</td>\n",
              "      <td>...</td>\n",
              "      <td>...</td>\n",
              "      <td>...</td>\n",
              "      <td>...</td>\n",
              "      <td>...</td>\n",
              "      <td>...</td>\n",
              "      <td>...</td>\n",
              "      <td>...</td>\n",
              "    </tr>\n",
              "    <tr>\n",
              "      <th>392</th>\n",
              "      <td>2021-06-16 20:34:12.770272</td>\n",
              "      <td>N5</td>\n",
              "      <td>N20</td>\n",
              "      <td>86.608442</td>\n",
              "      <td>101</td>\n",
              "      <td>100</td>\n",
              "      <td>-3.089568</td>\n",
              "      <td>True</td>\n",
              "      <td>True</td>\n",
              "      <td>10000</td>\n",
              "      <td>100</td>\n",
              "      <td>10000</td>\n",
              "      <td>1000</td>\n",
              "      <td>95</td>\n",
              "      <td>10</td>\n",
              "      <td>30</td>\n",
              "      <td>50</td>\n",
              "      <td>50</td>\n",
              "      <td>0.4</td>\n",
              "      <td>3</td>\n",
              "      <td>100</td>\n",
              "      <td>10</td>\n",
              "      <td>500</td>\n",
              "      <td>1000</td>\n",
              "      <td>1000</td>\n",
              "      <td>25</td>\n",
              "    </tr>\n",
              "    <tr>\n",
              "      <th>393</th>\n",
              "      <td>2021-06-16 20:35:39.430677</td>\n",
              "      <td>N28</td>\n",
              "      <td>N4</td>\n",
              "      <td>83.261364</td>\n",
              "      <td>100</td>\n",
              "      <td>100</td>\n",
              "      <td>-3.089568</td>\n",
              "      <td>True</td>\n",
              "      <td>True</td>\n",
              "      <td>10000</td>\n",
              "      <td>100</td>\n",
              "      <td>10000</td>\n",
              "      <td>1000</td>\n",
              "      <td>95</td>\n",
              "      <td>10</td>\n",
              "      <td>30</td>\n",
              "      <td>50</td>\n",
              "      <td>50</td>\n",
              "      <td>0.4</td>\n",
              "      <td>3</td>\n",
              "      <td>100</td>\n",
              "      <td>10</td>\n",
              "      <td>500</td>\n",
              "      <td>1000</td>\n",
              "      <td>1000</td>\n",
              "      <td>25</td>\n",
              "    </tr>\n",
              "    <tr>\n",
              "      <th>394</th>\n",
              "      <td>2021-06-16 20:37:02.744182</td>\n",
              "      <td>N13</td>\n",
              "      <td>N4</td>\n",
              "      <td>84.878762</td>\n",
              "      <td>101</td>\n",
              "      <td>100</td>\n",
              "      <td>-3.089568</td>\n",
              "      <td>True</td>\n",
              "      <td>True</td>\n",
              "      <td>10000</td>\n",
              "      <td>100</td>\n",
              "      <td>10000</td>\n",
              "      <td>1000</td>\n",
              "      <td>95</td>\n",
              "      <td>10</td>\n",
              "      <td>30</td>\n",
              "      <td>50</td>\n",
              "      <td>50</td>\n",
              "      <td>0.4</td>\n",
              "      <td>3</td>\n",
              "      <td>100</td>\n",
              "      <td>10</td>\n",
              "      <td>500</td>\n",
              "      <td>1000</td>\n",
              "      <td>1000</td>\n",
              "      <td>25</td>\n",
              "    </tr>\n",
              "    <tr>\n",
              "      <th>396</th>\n",
              "      <td>2021-06-16 20:48:06.870886</td>\n",
              "      <td>N23</td>\n",
              "      <td>N25</td>\n",
              "      <td>279.051775</td>\n",
              "      <td>358</td>\n",
              "      <td>100</td>\n",
              "      <td>7.249281</td>\n",
              "      <td>True</td>\n",
              "      <td>True</td>\n",
              "      <td>10000</td>\n",
              "      <td>100</td>\n",
              "      <td>10000</td>\n",
              "      <td>1000</td>\n",
              "      <td>95</td>\n",
              "      <td>10</td>\n",
              "      <td>30</td>\n",
              "      <td>50</td>\n",
              "      <td>50</td>\n",
              "      <td>0.4</td>\n",
              "      <td>3</td>\n",
              "      <td>100</td>\n",
              "      <td>10</td>\n",
              "      <td>500</td>\n",
              "      <td>1000</td>\n",
              "      <td>1000</td>\n",
              "      <td>25</td>\n",
              "    </tr>\n",
              "    <tr>\n",
              "      <th>398</th>\n",
              "      <td>2021-06-16 20:58:06.341044</td>\n",
              "      <td>N12</td>\n",
              "      <td>N8</td>\n",
              "      <td>81.761673</td>\n",
              "      <td>100</td>\n",
              "      <td>100</td>\n",
              "      <td>-3.089568</td>\n",
              "      <td>True</td>\n",
              "      <td>True</td>\n",
              "      <td>10000</td>\n",
              "      <td>100</td>\n",
              "      <td>10000</td>\n",
              "      <td>1000</td>\n",
              "      <td>95</td>\n",
              "      <td>10</td>\n",
              "      <td>30</td>\n",
              "      <td>50</td>\n",
              "      <td>50</td>\n",
              "      <td>0.4</td>\n",
              "      <td>3</td>\n",
              "      <td>100</td>\n",
              "      <td>10</td>\n",
              "      <td>500</td>\n",
              "      <td>1000</td>\n",
              "      <td>1000</td>\n",
              "      <td>25</td>\n",
              "    </tr>\n",
              "  </tbody>\n",
              "</table>\n",
              "<p>251 rows × 26 columns</p>\n",
              "</div>"
            ],
            "text/plain": [
              "                             0     1     2           3   ...   22    23    24  25\n",
              "0    2021-06-16 09:01:58.091556   N15    N7   83.512177  ...  500  1000  1000  25\n",
              "1    2021-06-16 09:03:21.649611   N29    N7   88.150947  ...  500  1000  1000  25\n",
              "2    2021-06-16 09:04:49.850397   N28    N8   89.968523  ...  500  1000  1000  25\n",
              "3    2021-06-16 09:06:19.849865   N26   N18   82.011816  ...  500  1000  1000  25\n",
              "4    2021-06-16 09:07:41.916560   N21    N8   90.125133  ...  500  1000  1000  25\n",
              "..                          ...   ...   ...         ...  ...  ...   ...   ...  ..\n",
              "392  2021-06-16 20:34:12.770272    N5   N20   86.608442  ...  500  1000  1000  25\n",
              "393  2021-06-16 20:35:39.430677   N28    N4   83.261364  ...  500  1000  1000  25\n",
              "394  2021-06-16 20:37:02.744182   N13    N4   84.878762  ...  500  1000  1000  25\n",
              "396  2021-06-16 20:48:06.870886   N23   N25  279.051775  ...  500  1000  1000  25\n",
              "398  2021-06-16 20:58:06.341044   N12    N8   81.761673  ...  500  1000  1000  25\n",
              "\n",
              "[251 rows x 26 columns]"
            ]
          },
          "metadata": {
            "tags": []
          },
          "execution_count": 58
        }
      ]
    },
    {
      "cell_type": "markdown",
      "metadata": {
        "id": "OCfqax3mUO2n"
      },
      "source": [
        "## Plots"
      ]
    },
    {
      "cell_type": "code",
      "metadata": {
        "id": "Y1zcl20UUWt1"
      },
      "source": [
        "import matplotlib.pyplot as plt\n",
        "from scipy.interpolate import interp1d\n",
        "from matplotlib.ticker import PercentFormatter\n",
        "\n",
        "plt.rcParams.update({'font.size': 22})"
      ],
      "execution_count": 69,
      "outputs": []
    },
    {
      "cell_type": "markdown",
      "metadata": {
        "id": "nPPe0Qa9bQH7"
      },
      "source": [
        "### Mean time for correct paths"
      ]
    },
    {
      "cell_type": "code",
      "metadata": {
        "colab": {
          "base_uri": "https://localhost:8080/",
          "height": 710
        },
        "id": "v6dsNFpjUgiV",
        "outputId": "1f46fa4f-de12-4a3a-aede-b170d956a581"
      },
      "source": [
        "x =np.array([25, 50, 75, 100, 125, 150])\n",
        "y =np.array([df_25_true[3].mean(), df_50_true[3].mean(), df_75_true[3].mean(), df_100_true[3].mean(), df_125_true[3].mean(), df_150_true[3].mean()])\n",
        "\n",
        "fig = plt.figure(figsize =(22, 12))\n",
        "plt.plot(x, y, '-o')\n",
        "plt.xticks(x)\n",
        "plt.show()"
      ],
      "execution_count": 60,
      "outputs": [
        {
          "output_type": "display_data",
          "data": {
            "image/png": "[encoded data removed]",
            "text/plain": [
              "<Figure size 1584x864 with 1 Axes>"
            ]
          },
          "metadata": {
            "tags": [],
            "needs_background": "light"
          }
        }
      ]
    },
    {
      "cell_type": "markdown",
      "metadata": {
        "id": "Od1yTmB5bT9b"
      },
      "source": [
        "### Relation between number of correct to all paths "
      ]
    },
    {
      "cell_type": "code",
      "metadata": {
        "colab": {
          "base_uri": "https://localhost:8080/"
        },
        "id": "JRIYQ4EncdFo",
        "outputId": "9895ea29-1716-48d2-e8db-5ddfb46302dc"
      },
      "source": [
        "df_25_true.shape[0]"
      ],
      "execution_count": 64,
      "outputs": [
        {
          "output_type": "execute_result",
          "data": {
            "text/plain": [
              "251"
            ]
          },
          "metadata": {
            "tags": []
          },
          "execution_count": 64
        }
      ]
    },
    {
      "cell_type": "code",
      "metadata": {
        "colab": {
          "base_uri": "https://localhost:8080/",
          "height": 710
        },
        "id": "SuUxyJnUa9Uu",
        "outputId": "189efca4-236f-4e28-eec6-15c53e0a8e3a"
      },
      "source": [
        "data = {\n",
        "    '25': (df_25_true.shape[0] / df_25.shape[0]) * 100,\n",
        "    '50': (df_50_true.shape[0] / df_50.shape[0]) * 100,\n",
        "    '75': (df_75_true.shape[0] / df_75.shape[0]) * 100,\n",
        "    '100': (df_100_true.shape[0] / df_100.shape[0]) * 100,\n",
        "    '125': (df_125_true.shape[0] / df_125.shape[0]) * 100,\n",
        "    '150': (df_150_true.shape[0] / df_150.shape[0]) * 100,\n",
        "}\n",
        "\n",
        "fig = plt.figure(figsize =(22, 12))\n",
        "\n",
        "ax = plt.subplot()\n",
        "\n",
        "ax.bar(data.keys(), data.values(), color ='gray',\n",
        "        width = 0.4)\n",
        "\n",
        "ax.yaxis.set_major_formatter(PercentFormatter())\n",
        "# plt.xlabel(\"Liczba przydzielonych adresów vIP na jednego hosta\")\n",
        "# plt.ylabel(\"Liczba unikalnych adresów vIP\")\n",
        "# plt.title(\"Liczba unikalnych adresów vIP w zależności od zakresu przydzielonych adresów vIP\")\n",
        "# plt.show()"
      ],
      "execution_count": 70,
      "outputs": [
        {
          "output_type": "display_data",
          "data": {
            "image/png": "[encoded data removed]",
            "text/plain": [
              "<Figure size 1584x864 with 1 Axes>"
            ]
          },
          "metadata": {
            "tags": [],
            "needs_background": "light"
          }
        }
      ]
    }
  ]
}